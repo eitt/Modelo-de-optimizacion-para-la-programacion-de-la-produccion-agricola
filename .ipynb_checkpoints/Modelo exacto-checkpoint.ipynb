{
 "cells": [
  {
   "cell_type": "markdown",
   "metadata": {},
   "source": [
    "# Desarrollo del modelo de programación entera míxta para dos objetivos"
   ]
  },
  {
   "cell_type": "markdown",
   "metadata": {},
   "source": [
    "Este es el código para solucionar de manera exacta un modelo de\n",
    "optimización multiobjetivo (como aproximación se trabajan las dos\n",
    "funciones de manera independiente), el cual hace parte del proyecto de\n",
    "investigación titulado: _Modelo de optimización multiobjetivo para la\n",
    "programación de la producción agrícola a pequeña escala en Santander_,\n",
    "Colombia, desarrollado por Leonardo H. Talero-Sarmiento, bajo la dirección de Henry\n",
    "Lamos-Díaz & Edwin A. Garavito-Hernandez.\n",
    "\n",
    "El Código se divide en 3 etapas que se describen a continuación:\n",
    "\n",
    "1. **Parámetros de inicio**: Se ingresan los parámetros del modelo, los cuales dependen de instancias generadas, por tanto, existirán múltiples archivos .mat, los cuales tienen almacenadas las inctancias y serán cargadas al principio del documento. Además, en esta sección se construyen los vectores que se utilizarán para generar las restricciones. (vectores b)\n",
    "2. **Desarrollo del modelo**: Se construyen las matrices de restricción, el problema ha sido abordado como un modelo de optimización entera mixta, en esta sección se construye también el vector solución.\n",
    "3. **Cálculo de la solución**: Se evalúa el modelo, mediante la aplicación de una función ya existente en MATLAB, se generan las salidas del modelo."
   ]
  },
  {
   "cell_type": "markdown",
   "metadata": {},
   "source": [
    "## Parámetros de inicio"
   ]
  },
  {
   "cell_type": "code",
   "execution_count": 7,
   "metadata": {
    "scrolled": true
   },
   "outputs": [
    {
     "name": "stdout",
     "output_type": "stream",
     "text": [
      "\n"
     ]
    }
   ],
   "source": [
    "% El codigo comienza con la limpieza de variables\n",
    "clearvars\n",
    "clc"
   ]
  },
  {
   "attachments": {},
   "cell_type": "markdown",
   "metadata": {},
   "source": [
    "Se cargan en el modelo diversos parámetros de los productos como: Duración promedio de maduración,\n",
    "cantidad de periodos para recoger el producto, etc. Con el fin\n",
    "de evitar recurrir a parámetros como el nombre o un identificador, todos los productos\n",
    "están organizados en orden descendentes (filas) .\n",
    "\n",
    "*Ahuyama*\n",
    "\n",
    "*Arverja*\n",
    "\n",
    "*Cebolla Cabezona*\n",
    "\n",
    "*Cebolla junta*\n",
    "\n",
    "*Cilantro*\n",
    "\n",
    "*Cebada*\n",
    "\n",
    "*Maíz*\n",
    "\n",
    "*Frijol*\n",
    "\n",
    "*Habichuela*\n",
    "\n",
    "*Lechuga*\n",
    "\n",
    "*Perejil*\n",
    "\n",
    "*Pimentón*\n",
    "\n",
    "*Tomate*\n",
    "\n",
    "*Banano*\n",
    "\n",
    "*Lulo*\n",
    "\n",
    "*Papaya*\n",
    "\n",
    "*Piña*\n",
    "\n",
    "*Arracacha*\n",
    "\n",
    "*Papa*\n",
    "\n",
    "*Plátano*\n",
    "\n",
    "*Yuca*\n"
   ]
  },
  {
   "cell_type": "code",
   "execution_count": 44,
   "metadata": {},
   "outputs": [
    {
     "name": "stdout",
     "output_type": "stream",
     "text": [
      "\n"
     ]
    }
   ],
   "source": [
    "load('productos_parametros.mat')\n",
    "%{ \n",
    "Conjunto_s: Vector con los instantes donde puede sembrarse cada producto.\n",
    "q:          Familia botánica a la que pertenece cada producto.\n",
    "Ni:         Número de periodos que se demora el producto k en \"Madurar\".\n",
    "Pkt:        Precio de venta del producto K en el instante t\n",
    "Rkl:        Rendimiento en Kg/m2 de cada producto (col) por lote (fil)\n",
    "Al:         Área en metros de cada lote\n",
    "Gv          Grupo de productos sustitutos para satisfacer una demanda\n",
    "%}"
   ]
  },
  {
   "cell_type": "code",
   "execution_count": 45,
   "metadata": {},
   "outputs": [
    {
     "name": "stdout",
     "output_type": "stream",
     "text": [
      "\n"
     ]
    }
   ],
   "source": [
    "%Variables para la instancia de prueba\n",
    "%Selecciono al azar 3 productos\n",
    "productos = datasample(1:21,3,'Replace',false);\n",
    "%Selecciono al azar 2 lotes\n",
    "lotes=datasample(1:length(Rkl(:,1)),2,'Replace',false);\n",
    "q=q(productos);\n",
    "Conjunto_s=Conjunto_s(productos,:);\n",
    "Ni=Ni(productos);\n",
    "Pkt=Pkt(productos,:);\n",
    "Rkl=Rkl(lotes,productos);\n",
    "Al=Al(lotes');\n",
    "\n",
    "%Se crea un número muy grande y se calculan parámetros del caso (problema)\n",
    "B=10000000000;\n",
    "%Cantidad de periodos\n",
    "T=length(Conjunto_s);\n",
    "%Cantidad de productos\n",
    "K=length(Ni);\n",
    "%Cantidad de lotes\n",
    "L=length(Al);\n",
    "% Estimar la matriz de Covarianza de los rendimientos precios;\n",
    "Covkkp=cov(diff(log(Pkt)',1));\n",
    "\n",
    "% Determinar la cantidad de variables de decisión para cada una de las\n",
    "% familias de variables:\n",
    "\n",
    "% {Y_t }^{l,k}\n",
    "Cant_Y=K*T*L;\n",
    "% {V_t }^{l,k}\n",
    "Cant_V=K*T*L;\n",
    "% {Z_t }^{l,k}\n",
    "Cant_Z=K*T*L;\n",
    "% {_y }^{k,k}\n",
    "Cant_U=K*K*T*L;\n",
    "Cant_var=Cant_Y+Cant_V+Cant_Z+Cant_U;\n",
    "\n",
    "% Se crea el conjunto de instantes de recogida.\n",
    "Conjunto_r=Conjunto_s*0;\n",
    "Restriccion_re=zeros(1,T*K*L);\n",
    "% Se calcula el conjunto de recogida para cada producto:\n",
    "\n",
    "% Bucle que recorre cada producto\n",
    "for k=1:K\n",
    "%{\n",
    "Se ubican los posibles periodos de siembra, posterior a ello, calcular\n",
    "el periodo de madurez Ni, de tal manera que re=s+Ni para cada\n",
    "producto. Como el conjunto de siembra y por tanto el de recogida\n",
    "tiene dimensiones k*T, estas deben ser transformadas a un vector, con\n",
    "el fin de utilizarlas como restricciones.\n",
    "%}\n",
    "    Conjunto_r(k,find(Conjunto_s(k,:)==1)+Ni(k))=1;\n",
    "%{\n",
    "El conjunto de recogida es almacenado para un único lote y debe ser\n",
    "completado en un bucle de lotes (para evitar la creación de bucles\n",
    "extras)\n",
    "%}\n",
    "    Restriccion_re(((T*(k-1))+1:(T*(k-1))+T))=Conjunto_r(k,1:T);\n",
    "end\n",
    "% Se acota el conjunto de recogida para futuros cálculos\n",
    "Conjunto_r=Conjunto_r(:,1:T);\n",
    "%{\n",
    "Se crea el conjunto para determinar el área máxima de siembra para cada\n",
    "periodo, este conjunto funciona como restricción.\n",
    "%} \n",
    "Restriccion_Al=zeros(1,T*K*L);\n",
    "for l=1:L\n",
    "    % Se almacena el valor del área Al(l) para cada conjunto de tamaño k*T\n",
    "    Restriccion_Al(((T*K)*(l-1)+1:(T*K*l)))=Al(l);\n",
    "    % Se aprovecha el bucle de lotes para completar el vector de recogidas\n",
    "    Restriccion_re(((T*K)*(l-1)+1:(T*K*l)))=Restriccion_re(1:(T*K));\n",
    "end"
   ]
  },
  {
   "cell_type": "markdown",
   "metadata": {},
   "source": [
    "## Desarrollo del Modelo"
   ]
  },
  {
   "cell_type": "markdown",
   "metadata": {},
   "source": [
    "### Familia de restricciones #1: No negatividad\n",
    "\n",
    "Como son restricciones de no negatividad y se trabaja con la función _intlinprog_, la no negatividad se modelo mediante el vector LB (_Lower Bound_, Límite Inferior)"
   ]
  },
  {
   "cell_type": "markdown",
   "metadata": {},
   "source": [
    "### Familia de restricciones #2: Periodos de recogida"
   ]
  },
  {
   "cell_type": "code",
   "execution_count": 46,
   "metadata": {},
   "outputs": [
    {
     "name": "stdout",
     "output_type": "stream",
     "text": [
      "\n"
     ]
    }
   ],
   "source": [
    "%{\n",
    "Se genera una matriz identidad en las variables Y (dicotómica de recogida\n",
    "del producto):\n",
    "%}\n",
    "A1=eye(T*K*L,Cant_var);\n",
    "% El vector b1 es la transpuesta del vector Restriccion_re\n",
    "b1=Restriccion_re';\n",
    "%{\n",
    "La matriz relaciona las variables de decisión Y (dicotómica) con Z\n",
    "(contínua) a partir de la premultiplicación por un número muy grande, por\n",
    "tanto, la matriz de restricciones se compone de dos diagonales y un\n",
    "espacio vacío:\n",
    "%}\n",
    "A2=cat(2,eye(Cant_Y,Cant_Y)*(-B),zeros(Cant_V,Cant_V),eye(Cant_Z,Cant_Z),...\n",
    "zeros(Cant_Y,Cant_U));\n",
    "\n",
    "% El vector b2 es igual a un vector 0\n",
    "b2=b1*0;"
   ]
  },
  {
   "cell_type": "markdown",
   "metadata": {},
   "source": [
    "### Familia de restricciones #3: Área destinada a siembra"
   ]
  },
  {
   "cell_type": "code",
   "execution_count": 47,
   "metadata": {},
   "outputs": [
    {
     "name": "stdout",
     "output_type": "stream",
     "text": [
      "\n"
     ]
    }
   ],
   "source": [
    "%{\n",
    "La matriz indica el área máxima destinada a cda cultivo (variable Z), por\n",
    "tanto, se modela como una diagonal igualada a la restricción:\n",
    "%} \n",
    "A3=cat(2,zeros(Cant_Y,Cant_Y),zeros(Cant_V,Cant_V),eye(Cant_Z,Cant_Z),...\n",
    "zeros(Cant_Z,Cant_U));\n",
    "% El vector b3 es la transpuesta del vector Restriccion_Al\n",
    "b3=Restriccion_Al';"
   ]
  },
  {
   "cell_type": "markdown",
   "metadata": {},
   "source": [
    "### Familia de restricciones #4: Satisfacción de la demanda\n",
    "Para el caso particular, se considera que existen productos sustitutos y, por tanto, estos pueden satisacer una misma demanda. Para agrupar los productos se cuenta con el parámetro Gv, el cual indica a cuál familia de productos sustitutos pertenecen los productos k, como es posible que no existan todos las familias a la vez (dependiendo de la instancia), es necesario determinar cuáles familias existen y crear una familia de restricciones (matriz) por cada familia:"
   ]
  },
  {
   "cell_type": "code",
   "execution_count": 48,
   "metadata": {},
   "outputs": [
    {
     "name": "stderr",
     "output_type": "stream",
     "text": [
      "\u001b[1;31mError: Unexpected MATLAB expression.\n",
      "\n",
      "\u001b[0m"
     ]
    }
   ],
   "source": [
    "%Determinar la cantidad de familias\n",
    "F_Gv = unique(Gv);\n",
    "%Se actualiza la demanda para la cantidad de familias\n",
    "Demanda_Gv=Demanda_Gv(F_Gv);\n",
    "%{Como la demanda cambia periodo a periodo, el tamaño de la matriz A4 es\n",
    "igual a la cantidad de familias a satisfacer en cada tiempo (en las filas)\n",
    "(length(F_Gv)*T) por la cantidad de variables de decisión:\n",
    "%}\n",
    "A4=zeros(length(F_Gv)*T,Cant_var);\n",
    "%{\n",
    "por su parte, el vectyor b4 tendrá la misma cantidad de filas y se\n",
    "subdividirá en tantas demandas como familias Gv existan:\n",
    "%}\n",
    "b4=zeros(length(F_Gv)*T,1);\n",
    "%{\n",
    "Como se construye tantas submatrices como familias, se genera un bucle:\n",
    "Desde la primera familia hasta la última\n",
    "%}\n",
    "for fgv=1:length(F_Gv)\n",
    "    %{ Como se debe recorrer todos los productos para determinar si\n",
    "      pertenecen o no a la misma familia Gv, se genera un bucle y se asigna\n",
    "      una submatriz identidad a aquellos productos que se van a relacionar\n",
    "      y una submatriz de ceros a aquellos que no pertenecen, se definen a\n",
    "      continuación:\n",
    "    %}\n",
    "    M_identidad=eye(T,T);\n",
    "    M_ceros=zeros(T,T);\n",
    "    % Además, se asignan los valores de demanda para el vector b4:\n",
    "    b4(((fgv-1)*T+1:(fgv-1)*T+T))=Demanda_Gv(fgv);\n",
    "        % Para cada uno de los lotes\n",
    "    for l=1:L\n",
    "        % Para cada uno de los productos\n",
    "        for k=1:K\n",
    "            if Gv(k)==F_Gv(fgv)\n",
    "                A4(((fgv-1)*T+1:(fgv-1)*T+T),((T*K*L*2)+(T*K)*(l-1)+T*(k-1)+1:(T*K*L*2)+(T*K)*(l-1)+T*(k-1)+T))=M_identidad;\n",
    "            else\n",
    "                A4(((fgv-1)*T+1:(fgv-1)*T+T),((T*K*L*2)+(T*K)*(l-1)+T*(k-1)+1:(T*K*L*2)+(T*K)*(l-1)+T*(k-1)+T))=M_ceros;\n",
    "            end\n",
    "        end\n",
    "    end\n",
    "end\n"
   ]
  },
  {
   "cell_type": "markdown",
   "metadata": {},
   "source": [
    "### Familia de restricciones #5: Evitar solapamiento\n",
    "\n",
    "Para evitar el solapamiento de los productos, se tiene en cuenta un producto k, el cual puede ser recogido en un instante de tiempo t, todos los productos (incluyendo al producto k) no pueden ser recogidos mientras dure el periodo de madurez del producto k, por tanto, se debe generar una submatriz de cargas que tenga como límite superior el instante de recogida -1 (t-1), y abarque el periodo de madurez del producto K. Por comodidad, se genera una matriz general (aún cuando el producto k no\n",
    "pueda ser recogido en el instante t=1). La cantidad de restricciones en este caso es igual al número de variables de decisión, por tanto, la matriz A5 inicial es igual a: "
   ]
  },
  {
   "cell_type": "code",
   "execution_count": 53,
   "metadata": {},
   "outputs": [
    {
     "name": "stdout",
     "output_type": "stream",
     "text": [
      "\n"
     ]
    }
   ],
   "source": [
    "A5=zeros(Cant_Y,Cant_var);\n",
    "% Se hace un recorrido para cada lote\n",
    "for l=1:L\n",
    "    %{\n",
    "    Para evitar excesos de bucles se calcula todo en el primer lote y se\n",
    "    reproduce para los lotes posteriores\n",
    "    %}\n",
    "    if l==1\n",
    "        %     Se realiza un recorrido para cada producto\n",
    "        for k=1:K\n",
    "            %{\n",
    "            \n",
    "             Se ubican las filas correspondientes al intervalo de\n",
    "             madurez del producto:\n",
    "            %}\n",
    "            [row, col] = (find(eye(T,T).*Conjunto_r(k,:)==1));\n",
    "            %{\n",
    "            Se define el intervalo de madurez previo a la\n",
    "            recogida de cada producto\n",
    "            %}         \n",
    "            intervalo_madurez=[find(Conjunto_r(k,1:T)==1)-Ni(k);find(Conjunto_r(k,1:T)==1)-1];\n",
    "            %{ \n",
    "            Se contruye una matriz para registar los periodos de\n",
    "            madurez\n",
    "            %}\n",
    "            M_madurez=zeros(T,T);\n",
    "            %{\n",
    "            Se realiza un bucle para cada uno de los posibles\n",
    "            periodos de madurez\n",
    "            %}\n",
    "            for i=1:length(intervalo_madurez)\n",
    "                M_madurez(row(i),intervalo_madurez(1,i):intervalo_madurez(2,i))=1;\n",
    "            end\n",
    "            % Se repite el patrón para todos los productos\n",
    "            A5((T)*(k-1)+(T*K)*(l-1)+1:(T)*(k-1)+(T*K)*(l-1)+T,1:(T*K))=repmat(M_madurez,1,K);\n",
    "            % Se Agrega la diagonal en el producto correspondiente:\n",
    "            A5((T)*(k-1)+1:(T)*(k-1)+T,(T)*(k-1)+1:(T)*(k-1)+T)=A5((T)*(k-1)+1:(T)*(k-1)+T,(T)*(k-1)+1:(T)*(k-1)+T)+eye(T,T).*Conjunto_r(k,:);\n",
    "        end\n",
    "    else\n",
    "        % Se replica la distribución de variables para todos los lotes\n",
    "        A5(K*T*(l-1)+1:K*T*(l),K*T*(l-1)+1:K*T*(l))=A5(1:K*T,1:K*T);\n",
    "    end\n",
    "end\n",
    "% Se crea el vector de restricción B5, el cual posee valores de 1:\n",
    "b5=ones(Cant_Y,1);"
   ]
  },
  {
   "cell_type": "markdown",
   "metadata": {},
   "source": [
    "### Familia de restricciones #6: Rotación de cultivos (k' diferente k)\n",
    "\n",
    "Para la rotación de productos es necesario que el terreno descanse en f^kk'o o^kk' periodos, si pertenecen o no a la misma familia botánica (F). Teniendo en cuenta que, durante el presente caso se parte del supuesto que todos los productos deben descansar la misma cantidad de periodos, se construye una única restricción, la cual tiene en consideración dos familias de variables de decisión: Y (variable binaria utilziada para relacionar la recogida del producto) y la variable V\n",
    "(binaria que indica la activación y desactivación de restricciones). El tamaño total de la matriz A6 es equivalente a 2*K*T*L filas por la K*T*L columnas. "
   ]
  },
  {
   "cell_type": "code",
   "execution_count": null,
   "metadata": {},
   "outputs": [],
   "source": [
    "6=zeros(Cant_Y*2,Cant_var);\n",
    "%{\n",
    "Posteriormente, se construye unas submatrices para cada periodo, estas se\n",
    "componen de dos estilos de matrices, la primera es la de tiempos de\n",
    "recogida, la cual corresponde a la sección de la restriccioón que incluye\n",
    "a la variable Y, premultiplicada por el tiempo y por la familia botánica\n",
    "del producto. La segunda submatriz tiene en consideración el tiempo menos\n",
    "el tiempo Ni de maduración de cada producto. Con el fin de evitar excesos\n",
    "de bucles, se realiza un único bucle para los lotes:\n",
    "%}\n",
    "% para cada Lote\n",
    "for l=1:L\n",
    "%     Se hace la solución para el primer lote y luego se replica\n",
    "    if l==1\n",
    "%         para cada producto k\n",
    "        for k1=1:K\n",
    "%             Para cada producto k'\n",
    "            for k2=1:K\n",
    "%                 Se calcula la diagonal de la matriz\n",
    "                if k1==k2                    \n",
    "                    % Se crea el conjunto o submatriz de recolección\n",
    "                    M_recoleccion=zeros(T,T);\n",
    "%                     Para cada periodo\n",
    "                    for t=1:T\n",
    "%                         Se diligencia el producto k' sembrado en el\n",
    "%                         instante t' y recogido en t\n",
    "%                         el rango aplica sólo si t>1\n",
    "                        if t>1\n",
    "%                             el rango va desde mínimo t=1, hasta el\n",
    "%                             instante previo a sembrar el product k en el\n",
    "%                             instante t\n",
    "                            RANGO_ANTES=(max(1,t-Ni(k2)):t-1);\n",
    "%                             Se almacena el conjunto en la submatriz\n",
    "                            M_recoleccion(t,RANGO_ANTES)=-(RANGO_ANTES-Ni(k2))*q(k2);\n",
    "                        end\n",
    "%                         Se diligencia el producto k, recogido en el instante t+Ni(k)\n",
    "                        RANGO_DIAGONAL=(t:min(T,t+Ni(k1)-1));\n",
    "%                         Se almacena el conjunto en la submatriz\n",
    "                        M_recoleccion(t,RANGO_DIAGONAL)=(RANGO_DIAGONAL)*q(k1);\n",
    "%                         Se calcula el conjunto para el producto k'\n",
    "%                         recogido en el instante t', posterior a t t'>t\n",
    "%                        Se verifica que no exceda el tiempo máximo del subconjunto\n",
    "                        if t+Ni(k1)<T\n",
    "%                             se crea el periodo de maduración.\n",
    "                            RANGO_DESPUES=(t+Ni(k1):min(T,t+Ni(k1)+Ni(k2)-1));\n",
    "%                             Se almacena el conjunto en la submatriz\n",
    "                            M_recoleccion(t,RANGO_DESPUES)=-(RANGO_DESPUES-Ni(k2))*q(k2);\n",
    "                        end\n",
    "                    end\n",
    "%                     se almacena el subconjunto en la matriz de cargas\n",
    "                    A6((T)*(k1-1)+1:(T)*(k1-1)+T,(T)*(k2-1)+1:(T)*(k2-1)+T)=M_recoleccion;\n",
    "%                 se replica el proceso cuando k'>k (posición en el conjunto K)    \n",
    "                elseif k2>k1\n",
    "                    M_recoleccion=zeros(T,T);\n",
    "                    for t=1:T\n",
    "                        %                         Diagonal antes\n",
    "                        if t>1\n",
    "                            RANGO_ANTES=(max(1,t-Ni(k2)):t-1);\n",
    "                            M_recoleccion(t,RANGO_ANTES)=-(RANGO_ANTES-Ni(k2))*q(k2);\n",
    "                        end\n",
    "                        RANGO_DIAGONAL=(t:min(T,t+Ni(k1)-1));\n",
    "                        M_recoleccion(t,RANGO_DIAGONAL)=(RANGO_DIAGONAL)*q(k1);\n",
    "                        if t+Ni(k1)<T\n",
    "                            RANGO_DESPUES=(t+Ni(k1):min(T,t+Ni(k1)+Ni(k2)-1));\n",
    "                            M_recoleccion(t,RANGO_DESPUES)=-(RANGO_DESPUES-Ni(k2))*q(k2);\n",
    "                        end\n",
    "                    end\n",
    "                    A6((T)*(k1-1)+1:(T)*(k1-1)+T,(T)*(k2-1)+1:(T)*(k2-1)+T)=M_recoleccion;\n",
    "                    %                 se replica el proceso cuando k'<k (posición en el conjunto K)\n",
    "                else\n",
    "                    % Se crea el conjunto o submatriz de recolección\n",
    "                    M_recoleccion=zeros(T,T);\n",
    "                    for t=1:T\n",
    "                        %                         Diagonal antes\n",
    "                        if t>1\n",
    "                            RANGO_ANTES=(max(1,t-Ni(k2)):t-1);\n",
    "                            M_recoleccion(t,RANGO_ANTES)=-(RANGO_ANTES-Ni(k2))*q(k2);\n",
    "                        end\n",
    "                        RANGO_DIAGONAL=(t:min(T,t+Ni(k1)-1));\n",
    "                        M_recoleccion(t,RANGO_DIAGONAL)=(RANGO_DIAGONAL)*q(k1);\n",
    "                        if t+Ni(k1)<T\n",
    "                            RANGO_DESPUES=(t+Ni(k1):min(T,t+Ni(k1)+Ni(k2)-1));\n",
    "                            M_recoleccion(t,RANGO_DESPUES)=-(RANGO_DESPUES-Ni(k2))*q(k2);\n",
    "                        end\n",
    "                    end\n",
    "                    A6((T)*(k1-1)+1:(T)*(k1-1)+T,(T)*(k2-1)+1:(T)*(k2-1)+T)=M_recoleccion;\n",
    "                    \n",
    "                end\n",
    "            end\n",
    "        end\n",
    "    else\n",
    "       % Se replica la distribución de variables para todos los lotes\n",
    "        A6(K*T*(l-1)+1:K*T*(l),K*T*(l-1)+1:K*T*(l))=A6(1:K*T,1:K*T);  \n",
    "    end\n",
    "end\n",
    "\n",
    "% Se construye la matriz de cargas de la variable V\n",
    "A6(1:K*T*L,K*T*L+1:2*K*T*L)=-B*eye(K*T*L,K*T*L);\n",
    "% Finalmente, se replica la matriz de carga, pero con valores negativos,\n",
    "% con el fin de generar cada par de variables excluyentes:\n",
    "\n",
    "[row,~] = size(A6);\n",
    "A6(row/2+1:row,:)=-A6(1:row/2,:);\n",
    "\n",
    "%{\n",
    "Posterior a la creación de las restricciones Y, se construye la restricción\n",
    "de la variable V, la cual va desde 1 hasta K*L*T. Su valor es\n",
    "el negativo de un número muy grande\n",
    "%} \n",
    "\n",
    "A6(1:K*T*L,K*T*L+1:2*K*T*L)=-B*eye(K*T*L,K*T*L);\n",
    "%{\n",
    "para la construcción del vector restricción, se tiene en cuenta la\n",
    "diferencia entre grupos F^k,k' o o^k,k'; en este caso, ambas igual a 1,\n",
    "por tanto:\n",
    "%}\n",
    "b6=cat(1,-ones(K*L*T,1),(-ones(K*L*T,1)+B));"
   ]
  },
  {
   "cell_type": "markdown",
   "metadata": {},
   "source": [
    "### Familia de restricciones #7 Espacio entre siembra del mismo cultivo\n",
    "\n",
    "Como caso especial, cuando no se realiza la rotación de un producto, la recogida (y respectiva siembra) del siguiente producto no puede realizarse en un periodo inferior de descanso de al menos fkk semanas. Por tanto, se construye una matriz de restricción A7 con tantas filas como varialbes Y y que abarca una cantidad de columnas igual a la cantidad de variables de decisión:"
   ]
  },
  {
   "cell_type": "code",
   "execution_count": 60,
   "metadata": {},
   "outputs": [
    {
     "name": "stdout",
     "output_type": "stream",
     "text": [
      "\n"
     ]
    }
   ],
   "source": [
    "% Se construye el la matriz:\n",
    "A7=zeros(Cant_Y,Cant_var);\n",
    "% Se hace un recorrido para cada lote\n",
    "for l=1:L\n",
    "    %{\n",
    "    Para evitar excesos de bucles se calcula todo en el primer lote y se\n",
    "    reproduce para los lotes posteriores\n",
    "    %}\n",
    "    if l==1\n",
    "        %     Se realiza un recorrido para cada producto\n",
    "        for k=1:K\n",
    "            %{\n",
    "             Se ubican las filas correspondientes al intervalo de\n",
    "             madurez del producto:\n",
    "            %}        \n",
    "            [row, col] = (find(eye(T,T).*Conjunto_r(k,:)==1));\n",
    "            %{\n",
    "            Se define el intervalo de madurez posterior a la\n",
    "            recogida de cada producto más la holgura o descanso\n",
    "            %}         \n",
    "            %         \n",
    "            intervalo_madurez=[find(Conjunto_r(k,1:T)==1)+1;...\n",
    "            min((find(Conjunto_r(k,1:T)==1)+Ni(k)+1), ...\n",
    "            ones(1,(length(find(Conjunto_r(k,1:T)==1)+Ni(k)+1)))*T)];\n",
    "            %Se contruye una matriz para registar los periodos de madurez\n",
    "            M_madurez=zeros(T,T);\n",
    "            %{\n",
    "            Se realiza un bucle para cada uno de los posibles\n",
    "            periodos de madurez\n",
    "            %}\n",
    "            for i=1:length(intervalo_madurez)\n",
    "                M_madurez(row(i),intervalo_madurez(1,i):intervalo_madurez(2,i))=1;\n",
    "            end\n",
    "            %Se repite el patrón para todos los productos\n",
    "            A7((T)*(k-1)+(T*K)*(l-1)+1:(T)*(k-1)+(T*K)*(l-1)+T,1:(T*K))=repmat(M_madurez,1,K);\n",
    "            %Se Agrega la diagonal en el producto correspondiente:\n",
    "            A7((T)*(k-1)+1:(T)*(k-1)+T,(T)*(k-1)+1:(T)*(k-1)+T)=A7((T)*(k-1)+1:(T)*(k-1)+T,(T)*(k-1)+1:(T)*(k-1)+T)+eye(T,T).*Conjunto_r(k,:);\n",
    "        end\n",
    "    else\n",
    "        % Se replica la distribución de variables para todos los lotes\n",
    "        A7(K*T*(l-1)+1:K*T*(l),K*T*(l-1)+1:K*T*(l))=A7(1:K*T,1:K*T);\n",
    "    end\n",
    "end\n",
    "%{\n",
    "Se crea el vector de restricción b7, el cual posee valores de 1 en los\n",
    "periodos donde es posible realizar la recolección:\n",
    "%} \n",
    "b7=b1;"
   ]
  },
  {
   "cell_type": "markdown",
   "metadata": {},
   "source": [
    "### Familia de restricciones #8: Proporción de áreas recogidas (para cada par)\n",
    "\n",
    "La octava familia de restricciones relacionan dos variables de decisión: Uk,k' (la cual premultiplica l amatriz de varianza-covarianza) con la variable de decisión Z l,k,t y el rendimiento (calculando así el volumen de producción) Como la variable U no posee índice t, la matriz de cargas para Z tiene (k^2 )*T filas (para estimar cada interacción) y L*K*T columnas."
   ]
  },
  {
   "cell_type": "code",
   "execution_count": 61,
   "metadata": {},
   "outputs": [
    {
     "name": "stdout",
     "output_type": "stream",
     "text": [
      "\n"
     ]
    }
   ],
   "source": [
    "A8=zeros(Cant_U,Cant_var);\n",
    "%{\n",
    "se contruye el vector b8 de restricciones, el cual relaciona las áreas\n",
    "máximas donde está cultivado cada producto:\n",
    "%}\n",
    "b8=zeros(Cant_U,1);\n",
    "%{\n",
    "para reducir la cantidad de bucles, la asignación de las cargas comienza\n",
    "por los productos (conjuntos que más se repiten) y posteriormente se\n",
    "recalcula el valor para el respectivo lote:\n",
    "%}\n",
    "for k1=1:K\n",
    "    for k2=1:K\n",
    "        % se genera el bucle para cada lote:\n",
    "        for l=1:L\n",
    "            if k1==k2\n",
    "            %Se crea una matriz diagonal a la cual se premultiplican las\n",
    "            %áreas:\n",
    "            M_areas=eye(T,T)*(Rkl(l,k2)*Al(l)*Rkl(l,k1)*2);\n",
    "            %Se asigna el valor de la submatriz en la matriz de cargas A:\n",
    "            A8((K*K*T)*(l-1)+(K*T)*(k1-1)+T*(k2-1)+1:(K*K*T)*(l-1)+...\n",
    "            (K*T)*(k1-1)+T*(k2-1)+T,Cant_Y+Cant_V+(K*T)*(l-1)+T*(k1-1)+1:...\n",
    "            Cant_Y+Cant_Z+(K*T)*(l-1)+T*(k1-1)+T)=M_areas;\n",
    "            else\n",
    "                M_areask1=eye(T,T)*(Rkl(l,k1)*Al(l)*Rkl(l,k1));\n",
    "                M_areask2=eye(T,T)*(Rkl(l,k1)*Al(l)*Rkl(l,k2));\n",
    "                A8((K*K*T)*(l-1)+(K*T)*(k1-1)+T*(k2-1)+1:(K*K*T)*(l-1)+...\n",
    "                (K*T)*(k1-1)+T*(k2-1)+T,Cant_Y+Cant_V+(K*T)*(l-1)+T*(k1-1)+1:...\n",
    "                Cant_Y+Cant_Z+(K*T)*(l-1)+T*(k1-1)+T)=M_areask1;\n",
    "                A8((K*K*T)*(l-1)+(K*T)*(k1-1)+T*(k2-1)+1:(K*K*T)*(l-1)+...\n",
    "                (K*T)*(k1-1)+T*(k2-1)+T,Cant_Y+Cant_V+(K*T)*(l-1)+T*(k2-1)+1:...\n",
    "                Cant_Y+Cant_Z+(K*T)*(l-1)+T*(k2-1)+T)=M_areask2;\n",
    "            end\n",
    "        end\n",
    "    end\n",
    "end\n",
    "% Respecto a la variable U, se crea una diagonal positiva\n",
    "A8(:,Cant_Y+Cant_V+Cant_Z+1:Cant_var)=-eye(Cant_U,Cant_U);\n",
    "% Se diligencia el vector b8\n",
    "for l=1:L\n",
    "    b8((Cant_U/L)*(l-1)+1:(Cant_U/L)*(l-1)+(Cant_U/L))=Al(l);\n",
    "end\n",
    "b8=b8.^2;\n",
    "col1=b8*0;\n",
    "col2=col1;\n",
    "for l=1:L\n",
    "    for k1=1:K\n",
    "        recorrido1=(K*K*T)*(l-1)+(K*T)*(k1-1);\n",
    "        col1(recorrido1+1:recorrido1+K*T)=Rkl(l,k1);\n",
    "        for k2=1:K\n",
    "            recorrido2=recorrido1+T*(k2-1);\n",
    "            col2(recorrido2+1:recorrido2+T)=Rkl(l,k2);\n",
    "        end\n",
    "    end    \n",
    "end"
   ]
  },
  {
   "cell_type": "markdown",
   "metadata": {},
   "source": [
    "### Familia de restricciones #9: Proporción de Áreas U^{k,k'} Cantidad de producto k, recogido en cada instante t."
   ]
  },
  {
   "cell_type": "code",
   "execution_count": 62,
   "metadata": {},
   "outputs": [
    {
     "name": "stdout",
     "output_type": "stream",
     "text": [
      "\n"
     ]
    }
   ],
   "source": [
    "% Se contruye la matriz de cargas para la familia de restricciones\n",
    "A9=zeros(Cant_U,Cant_var);\n",
    "% Se construye el vector de restricciones b9:\n",
    "b9=zeros(Cant_U,1);\n",
    "%{\n",
    "para reducir la cantidad de bucles, la asignación de las cargas comienza\n",
    "por los productos (conjuntos que más se repiten) y posteriormente se\n",
    "recalcula el valor para el respectivo lote:\n",
    "%}\n",
    "for l=1:L\n",
    "  A9((Cant_U/L)*(l-1)+1:(Cant_U/L)*(l-1)+(Cant_U/L),Cant_Y...\n",
    "  +Cant_V+(K*T)*(l-1)+1:Cant_Y+Cant_V+(K*T)*(l-1)+K*T)=repmat(eye(K*T),K,1);\n",
    "  b9((Cant_U/L)*(l-1)+1:(Cant_U/L)*(l-1)+(Cant_U/L))=Al(l);\n",
    "end\n",
    "A9(:,Cant_Y+Cant_V+1:Cant_U)=A9(:,Cant_Y+Cant_V+1:Cant_U).*b9.*col1.*col2*-1;\n",
    "A9(:,Cant_var-Cant_U+1:Cant_var)=eye(Cant_U,Cant_U);\n",
    "b9=b9*0;"
   ]
  },
  {
   "cell_type": "markdown",
   "metadata": {},
   "source": [
    "### Familia de restricciones #10: Proporción de Áreas U^{k,k'} Cantidad de % producto k, recogido en cada instante t."
   ]
  },
  {
   "cell_type": "code",
   "execution_count": 63,
   "metadata": {},
   "outputs": [
    {
     "name": "stdout",
     "output_type": "stream",
     "text": [
      "\n"
     ]
    }
   ],
   "source": [
    "% Se contruye la matriz de cargas para la familia de restricciones\n",
    "A10=zeros(Cant_U,Cant_var);\n",
    "% Se construye el vector de restricciones b9:\n",
    "b10=zeros(Cant_U,1);\n",
    "%{\n",
    "para reducir la cantidad de bucles, la asignación de las cargas comienza\n",
    "por los productos (conjuntos que más se repiten) y posteriormente se\n",
    "recalcula el valor para el respectivo lote:\n",
    "%}\n",
    "for k1=1:K\n",
    "    for k2=1:K\n",
    "        % se genera el bucle para cada lote:\n",
    "        for l=1:L\n",
    "            if k1==k2\n",
    "            %Se crea una matriz diagonal a la cual se premultiplican las áreas:\n",
    "            M_areas=-eye(T,T)*(Rkl(l,k1)*Al(l)*Rkl(l,k2));\n",
    "            %Se asigna el valor de la submatriz en la matriz de cargas A:\n",
    "            A10((K*K*T)*(l-1)+(K*T)*(k1-1)+T*(k2-1)+1:(K*K*T)*(l-1)+(K*T)*(k1-1)+...\n",
    "            T*(k2-1)+T,Cant_Y+Cant_V+(K*T)*(l-1)+T*(k1-1)+1:Cant_Y+Cant_Z+...\n",
    "            (K*T)*(l-1)+T*(k1-1)+T)=M_areas;\n",
    "            else\n",
    "                M_areask1=-eye(T,T)*(Rkl(l,k1)*Al(l)*Rkl(l,k2));\n",
    "                A10((K*K*T)*(l-1)+(K*T)*(k1-1)+T*(k2-1)+1:(K*K*T)*(l-1)+(K*T)*(k1-1)+...\n",
    "                T*(k2-1)+T,Cant_Y+Cant_V+(K*T)*(l-1)+T*(k1-1)+1:Cant_Y+Cant_Z+...\n",
    "                (K*T)*(l-1)+T*(k1-1)+T)=M_areask1;\n",
    "             end\n",
    "        end\n",
    "    end\n",
    "end\n",
    "A10(:,Cant_Y+Cant_V+Cant_Z+1:Cant_var)=eye(Cant_U,Cant_U);"
   ]
  },
  {
   "cell_type": "markdown",
   "metadata": {},
   "source": [
    "## Cálculo de la solución"
   ]
  },
  {
   "cell_type": "code",
   "execution_count": null,
   "metadata": {},
   "outputs": [],
   "source": [
    "% Se integran todas las restricciones, comenzando por la matriz de cargas:\n",
    "A=cat(1,A1,A2,A3,A4,A5,A6,A7,A8,A9,A10);\n",
    "% Seguida del vector de desigualdades\n",
    "b=cat(1,b1,b2,b3,b4,b5,b6,b7,b8,b9,b10);\n",
    "%Se contruyen en etapas los vectores que multiplica las variables objetivo\n",
    "% Primera función (máximizar ingresos)\n",
    "f = -repmat(Pkt(:),L,1);\n",
    "f=cat(1,zeros(Cant_Y+Cant_V,1),f,zeros(Cant_U,1));\n",
    "%Segunda función (mínimizar riesgo financiero)\n",
    "%Se calcula la covarianza para todos los lotes\n",
    "cova=zeros(1,Cant_U/L);\n",
    "for k1= 1:K\n",
    "    for k2=1:K\n",
    "        recorrido=((K*T)*(k1-1))+T*(k2-1);\n",
    "        cova(recorrido+1:recorrido+T)=Covkkp(k1,k2);\n",
    "    end\n",
    "end\n",
    "cova=repmat(cova,1,L);\n",
    "f2=cat(1,zeros(Cant_var-Cant_U,1),cova');\n",
    "%Se genera la restricción de tipo de variables enteras\n",
    "intcon = 1:Cant_Y+Cant_V;\n",
    "%Se indica que no existen restricciones de igualdad\n",
    "Aeq = [];\n",
    "beq = [];\n",
    "%Se genera la restricción de signo Familia de restricciones #1\n",
    "lb = zeros(length(f),1);\n",
    "%Se genera la cota superior de valores\n",
    "ub =  cat(1,ones(Cant_Y+Cant_V,1),Inf(Cant_Z+Cant_U,1));\n",
    "%Se soluciona el problema como un problema mono objetivo \n",
    "%Máximizar ingresos\n",
    "x=intlinprog(f,intcon',A,b,[],[],lb,ub);\n",
    "%Se soluciona el problema como un problema mono objetivo \n",
    "%Mínimizar riesgos\n",
    "x2=intlinprog(f2,intcon',A,b,[],[],lb,ub);\n",
    "%Se soluciona el problema como un problema mono objetivo \n",
    "%Ponderar funciones\n",
    "ponderacion=0.5;\n",
    "%Vector que multiplica la función objetivo\n",
    "f3=f*(1-ponderacion)+f2*ponderacion;\n",
    "%Se calcula al solución\n",
    "x3=intlinprog(f3,intcon',A,b,[],[],lb,ub);"
   ]
  }
 ],
 "metadata": {
  "kernelspec": {
   "display_name": "Matlab",
   "language": "matlab",
   "name": "matlab"
  },
  "language_info": {
   "codemirror_mode": "octave",
   "file_extension": ".m",
   "help_links": [
    {
     "text": "MetaKernel Magics",
     "url": "https://github.com/calysto/metakernel/blob/master/metakernel/magics/README.md"
    }
   ],
   "mimetype": "text/x-octave",
   "name": "matlab",
   "version": "0.15.1"
  }
 },
 "nbformat": 4,
 "nbformat_minor": 2
}
